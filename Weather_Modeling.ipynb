{
  "nbformat": 4,
  "nbformat_minor": 0,
  "metadata": {
    "colab": {
      "provenance": [],
      "authorship_tag": "ABX9TyNP4XMQZ49NSmmpk/f4P/bP",
      "include_colab_link": true
    },
    "kernelspec": {
      "name": "python3",
      "display_name": "Python 3"
    },
    "language_info": {
      "name": "python"
    }
  },
  "cells": [
    {
      "cell_type": "markdown",
      "metadata": {
        "id": "view-in-github",
        "colab_type": "text"
      },
      "source": [
        "<a href=\"https://colab.research.google.com/github/AishwaryaMahapathruni/Aishwarya-HU22CSEN0101147/blob/main/Weather_Modeling.ipynb\" target=\"_parent\"><img src=\"https://colab.research.google.com/assets/colab-badge.svg\" alt=\"Open In Colab\"/></a>"
      ]
    },
    {
      "cell_type": "markdown",
      "source": [
        "1.\tImplement weather modeling using the quadratic solution in stages: hard-coding variables keyboard input, read from a file, for a single set of input, multiple sets of inputs.\n",
        "\n",
        "     a. save all versions, debug, fix problems, create a Github account\n"
      ],
      "metadata": {
        "id": "PLg7Mky3WEtR"
      }
    },
    {
      "cell_type": "markdown",
      "source": [
        "1. **Hardcoding** **variables**"
      ],
      "metadata": {
        "id": "iBy4nmxWOX_j"
      }
    },
    {
      "cell_type": "code",
      "execution_count": 1,
      "metadata": {
        "id": "5fJM7bHmI61g"
      },
      "outputs": [],
      "source": [
        "def Temperature_modeling(a,b,c,time):\n",
        "  temperature=a*time**2+b*time+c\n",
        "  return temperature"
      ]
    },
    {
      "cell_type": "code",
      "source": [
        "#hardcoded  variables\n",
        "a,b,c=0.1,2,10\n",
        "time=5"
      ],
      "metadata": {
        "id": "qPxfSx4UJ8c4"
      },
      "execution_count": 2,
      "outputs": []
    },
    {
      "cell_type": "code",
      "source": [
        "print(\"Hard coded variables for weather modeling\")\n",
        "print(\"Temperature for hardcoded coefficients at time\",time,\"hours:\", Temperature_modeling(a,b,c,time))"
      ],
      "metadata": {
        "colab": {
          "base_uri": "https://localhost:8080/"
        },
        "id": "2OaBHCbCKHKt",
        "outputId": "35fcaf3b-ba7d-41e3-eba9-735da6426f91"
      },
      "execution_count": null,
      "outputs": [
        {
          "output_type": "stream",
          "name": "stdout",
          "text": [
            "Hard coded variables for weather modeling\n",
            "Temperature for hardcoded coefficients at time 5 hours: 22.5\n"
          ]
        }
      ]
    },
    {
      "cell_type": "markdown",
      "source": [
        "2. **Accepting** **variables** **via** **keyboard** **input**"
      ],
      "metadata": {
        "id": "0WohHoVHOvWV"
      }
    },
    {
      "cell_type": "code",
      "source": [
        "a=float(input(\"Enter the value of coefficient a:\"))\n",
        "b=float(input(\"Enter the value of coefficient b:\"))\n",
        "c=float(input(\"Enter the value of coefficient c:\"))"
      ],
      "metadata": {
        "colab": {
          "base_uri": "https://localhost:8080/"
        },
        "id": "B6ErrwK2O8O8",
        "outputId": "3935b27a-4387-42b8-b611-5ddb933f502e"
      },
      "execution_count": null,
      "outputs": [
        {
          "name": "stdout",
          "output_type": "stream",
          "text": [
            "Enter the value of coefficient a:0.1\n",
            "Enter the value of coefficient b:2\n",
            "Enter the value of coefficient c:10\n"
          ]
        }
      ]
    },
    {
      "cell_type": "code",
      "source": [
        "time=float(input(\"Enter time:\"))"
      ],
      "metadata": {
        "colab": {
          "base_uri": "https://localhost:8080/"
        },
        "id": "F9xOOE7ePOQC",
        "outputId": "410b916b-df35-4d06-c1d2-54df40d98c55"
      },
      "execution_count": null,
      "outputs": [
        {
          "name": "stdout",
          "output_type": "stream",
          "text": [
            "Enter time:4\n"
          ]
        }
      ]
    },
    {
      "cell_type": "code",
      "source": [
        "print(\"Hard-coded variables for weather modeling\")\n",
        "print(\"Temperature for hardcoded coefficients at time\",time,\"hours:\", Temperature_modeling(a,b,c,time))"
      ],
      "metadata": {
        "colab": {
          "base_uri": "https://localhost:8080/"
        },
        "id": "9f_ER0NjPYvR",
        "outputId": "27e0d24a-3aa6-4816-dc2f-d4b12af69b72"
      },
      "execution_count": null,
      "outputs": [
        {
          "output_type": "stream",
          "name": "stdout",
          "text": [
            "Hard-coded variables for weather modeling\n",
            "Temperature for hardcoded coefficients at time 4.0 hours: 19.6\n"
          ]
        }
      ]
    },
    {
      "cell_type": "markdown",
      "source": [
        "3. **Reading** **variables** **from** **a** **file**"
      ],
      "metadata": {
        "id": "jf0lJ1_APl1r"
      }
    },
    {
      "cell_type": "code",
      "source": [
        "#Reading coefficients from a file\n",
        "def read_from_file(filename):\n",
        "  with open(filename,'r') as file:\n",
        "    lines=file.readlines()\n",
        "    coefficients=[tuple(map(float, line.strip().split(',')))for line in lines]\n",
        "    return coefficients"
      ],
      "metadata": {
        "id": "D-eJuYgCP8B8"
      },
      "execution_count": null,
      "outputs": []
    },
    {
      "cell_type": "markdown",
      "source": [
        "4.**Processing** **a** **single** **set** **of** **inputs**"
      ],
      "metadata": {
        "id": "BPE97LwvQpN-"
      }
    },
    {
      "cell_type": "code",
      "source": [
        "#Example: solve for a single set of inputs\n",
        "coefficients=read_from_file(\"/content/input1.txt\")\n",
        "a,b,c,time = coefficients[0]\n",
        "temperature=Temperature_modeling(a,b,c,time)\n",
        "print(\"Read from file for weather modeling\")\n",
        "print(\"Temperature form keyboard coefficients at time\",time,\"hours:\", Temperature_modeling(a,b,c,time))"
      ],
      "metadata": {
        "colab": {
          "base_uri": "https://localhost:8080/"
        },
        "id": "Q-pZZv5bQ2Xs",
        "outputId": "75cf8bbf-cbeb-4009-de79-1e35eda4cb78"
      },
      "execution_count": null,
      "outputs": [
        {
          "output_type": "stream",
          "name": "stdout",
          "text": [
            "Read from file for weather modeling\n",
            "Temperature form keyboard coefficients at time 3.0 hours: 16.9\n"
          ]
        }
      ]
    },
    {
      "cell_type": "markdown",
      "source": [
        "5.**Processing** **multiple** **sets** **of** **inputs**"
      ],
      "metadata": {
        "id": "6mUn0BjoSB-q"
      }
    },
    {
      "cell_type": "code",
      "source": [
        "#Solve for all sets in the file\n",
        "for idx,(a,b,c,time) in enumerate(coefficients):\n",
        "  temperature=Temperature_modeling(a,b,c,time)\n",
        "  print(\"Read from file for weather modeling\",idx+1)\n",
        "  print(\"Temperature form coefficients at time\",time,\"hours:\", Temperature_modeling(a,b,c,time))"
      ],
      "metadata": {
        "colab": {
          "base_uri": "https://localhost:8080/"
        },
        "id": "qEEY767TSLeG",
        "outputId": "1a40657f-ef33-4e3c-e778-4a63f16a6ce1"
      },
      "execution_count": null,
      "outputs": [
        {
          "output_type": "stream",
          "name": "stdout",
          "text": [
            "Read from file for weather modeling 1\n",
            "Temperature form coefficients at time 3.0 hours: 16.9\n",
            "Read from file for weather modeling 2\n",
            "Temperature form coefficients at time 4.0 hours: 40.2\n"
          ]
        }
      ]
    }
  ]
}